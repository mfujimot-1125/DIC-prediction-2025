{
 "cells": [
  {
   "cell_type": "code",
   "execution_count": null,
   "metadata": {},
   "outputs": [],
   "source": [
    "import os\n",
    "import pandas as pd\n",
    "import h2o\n",
    "from h2o.automl import H2OAutoML"
   ]
  },
  {
   "cell_type": "code",
   "execution_count": 81,
   "metadata": {},
   "outputs": [],
   "source": [
    "date = \"20250420\"\n",
    "data_dir = '../data/'\n",
    "output_dir = '../output/'\n",
    "featureset = 'featureset.csv'"
   ]
  },
  {
   "cell_type": "markdown",
   "metadata": {},
   "source": [
    "#### Run H2O AutoML"
   ]
  },
  {
   "cell_type": "code",
   "execution_count": null,
   "metadata": {},
   "outputs": [],
   "source": [
    "h2o.init(max_mem_size=\"8G\")"
   ]
  },
  {
   "cell_type": "code",
   "execution_count": 83,
   "metadata": {},
   "outputs": [],
   "source": [
    "def get_aml_model(train_path: str, \n",
    "                  test_path:str, \n",
    "                vars: list, random_seed: int) -> None:\n",
    "    train = h2o.import_file(os.path.join(data_dir, date, train_path))\n",
    "    train = train[vars]\n",
    "    test = h2o.import_file(os.path.join(data_dir, date, test_path)) \n",
    "    test = test[vars]\n",
    "\n",
    "    x = train.columns\n",
    "    y = 'y'\n",
    "    x.remove(y)\n",
    "    train[y] = train[y].asfactor()\n",
    "    test[y] = test[y].asfactor()\n",
    "    aml = H2OAutoML(max_models=20, seed=random_seed, exclude_algos=[\"StackedEnsemble\"], verbosity = \"debug\")\n",
    "    aml.train(x=x, y=y, training_frame=train)\n",
    "\n",
    "    return aml, train, test"
   ]
  },
  {
   "cell_type": "code",
   "execution_count": null,
   "metadata": {},
   "outputs": [],
   "source": [
    "#retrieve the features from the featureset for each model\n",
    "df = pd.read_csv(os.path.join(data_dir,featureset))\n",
    "minimum_model_features = df[df['minimum model'] == 1]['Feature'].tolist()\n",
    "compact_model_features = df[df['compact model'] == 1]['Feature'].tolist()\n",
    "full_model_features = df[df['full model'] == 1]['Feature'].tolist()"
   ]
  },
  {
   "cell_type": "code",
   "execution_count": 86,
   "metadata": {},
   "outputs": [],
   "source": [
    "vars_full = full_model_features+['y']\n",
    "vars_minimum = minimum_model_features + ['y']\n",
    "vars_compact = compact_model_features + ['y']"
   ]
  },
  {
   "cell_type": "markdown",
   "metadata": {},
   "source": [
    "#### Run H2O AutoML for full model"
   ]
  },
  {
   "cell_type": "code",
   "execution_count": null,
   "metadata": {},
   "outputs": [],
   "source": [
    "aml_DIC, train, test = get_aml_model(f'{date}_train_df_model1.csv', f\"{date}_test_df_model1.csv\", vars_full, 780)"
   ]
  },
  {
   "cell_type": "markdown",
   "metadata": {},
   "source": [
    "#### Check the Results of H2O AutoML\n"
   ]
  },
  {
   "cell_type": "code",
   "execution_count": null,
   "metadata": {},
   "outputs": [],
   "source": [
    "lb_DIC = aml_DIC.leaderboard\n",
    "lb_DIC.head(rows=lb_DIC.nrows)"
   ]
  },
  {
   "cell_type": "code",
   "execution_count": null,
   "metadata": {},
   "outputs": [],
   "source": [
    "# Retrieve the model by specifying the model ID to be saved from the leaderboard\n",
    "model_id = \"XGBoost_grid_1_AutoML_1_20250421_192034_model_2\"\n",
    "best_model = h2o.get_model(model_id)\n",
    "\n",
    "# Retrieve second and third models for comparison necessary\n",
    "#second_model_id = \"GBM_grid_1_AutoML_1_20250421_192034_model_1\"\n",
    "#second_model = h2o.get_model(second_model_id)\n",
    "#third_model_id = \"GBM_grid_1_AutoML_1_20250421_192034_model_2\"\n",
    "#third_model = h2o.get_model(third_model_id)"
   ]
  },
  {
   "cell_type": "code",
   "execution_count": null,
   "metadata": {},
   "outputs": [],
   "source": [
    "#save the model\n",
    "model_path_full = h2o.save_model(model=best_model, path=os.path.join(output_dir, f'h2omodels/model1/h2omodel_24{date}_best'), force=True)\n",
    "#second_model_path_full = h2o.save_model(model=second_model, path=os.path.join(output_dir, f'h2omodels/model1/h2omodel_24{date}_second'), force=True)\n",
    "#third_model_path_full = h2o.save_model(model=third_model, path=os.path.join(output_dir, f'h2omodels/model1/h2omodel_24{date}_third'), force=True)"
   ]
  },
  {
   "cell_type": "code",
   "execution_count": null,
   "metadata": {},
   "outputs": [],
   "source": [
    "with open(f'{date}/model_path_best_latest_model1.txt', 'w') as f:\n",
    "    f.write(f\"best_model: {model_path_full}\\n\")\n",
    "    #f.write(f\"second_model: {second_model_path_full}\\n\")\n",
    "    #f.write(f\"third_model: {third_model_path_full}\\n\")"
   ]
  },
  {
   "cell_type": "markdown",
   "metadata": {},
   "source": [
    "#### Run H2O AutoML for minimum model"
   ]
  },
  {
   "cell_type": "code",
   "execution_count": null,
   "metadata": {},
   "outputs": [],
   "source": [
    "h2o.init(max_mem_size=\"8G\")"
   ]
  },
  {
   "cell_type": "code",
   "execution_count": null,
   "metadata": {},
   "outputs": [],
   "source": [
    "aml_DIC_minimum, train_minimum, test_minimum = get_aml_model(f'{date}_train_df_model1.csv', f\"{date}_test_df_model1.csv\", vars_minimum, 710)"
   ]
  },
  {
   "cell_type": "code",
   "execution_count": null,
   "metadata": {},
   "outputs": [],
   "source": [
    "lb_DIC_minimum = aml_DIC_minimum.leaderboard\n",
    "lb_DIC_minimum.head(rows=lb_DIC_minimum.nrows)"
   ]
  },
  {
   "cell_type": "code",
   "execution_count": null,
   "metadata": {},
   "outputs": [],
   "source": [
    "# Retrieve the model by specifying the model ID to be saved from the leaderboard\n",
    "model_id = \"GBM_5_AutoML_1_20250421_183521\"\n",
    "best_model = h2o.get_model(model_id)\n",
    "# Retrieve second and third models for comparison necessary\n",
    "#second_model_id = \"XGBoost_3_AutoML_1_20250421_183521\"\n",
    "#second_model = h2o.get_model(second_model_id)\n",
    "#third_model_id = \"GBM_1_AutoML_1_20250421_183521\"\n",
    "#third_model = h2o.get_model(third_model_id)"
   ]
  },
  {
   "cell_type": "code",
   "execution_count": null,
   "metadata": {},
   "outputs": [],
   "source": [
    "model_path_full = h2o.save_model(model=best_model, path=os.path.join(output_dir, f'h2omodels/model1_minimum/h2omodel_24{date}_best'), force=True)\n",
    "#second_model_path_full = h2o.save_model(model=second_model, path=os.path.join(output_dir, f'h2omodels/model1_minimum/h2omodel_24{date}_second'), force=True)\n",
    "#third_model_path_full = h2o.save_model(model=third_model, path=os.path.join(output_dir, f'h2omodels/model1_minimum/h2omodel_24{date}_third'), force=True)"
   ]
  },
  {
   "cell_type": "code",
   "execution_count": null,
   "metadata": {},
   "outputs": [],
   "source": [
    "with open(f'{date}/model_path_best_latest_model1_minimum.txt', 'w') as f:\n",
    "    f.write(f\"best_model: {model_path_full}\\n\")\n",
    "    #f.write(f\"second_model: {second_model_path_full}\\n\")\n",
    "    #f.write(f\"third_model: {third_model_path_full}\\n\")"
   ]
  },
  {
   "cell_type": "markdown",
   "metadata": {},
   "source": [
    "#### Run H2O AutoML for Compact Model"
   ]
  },
  {
   "cell_type": "code",
   "execution_count": null,
   "metadata": {},
   "outputs": [],
   "source": [
    "h2o.init(max_mem_size=\"8G\")"
   ]
  },
  {
   "cell_type": "code",
   "execution_count": null,
   "metadata": {},
   "outputs": [],
   "source": [
    "aml_DIC_compact, train_compact, test_compact = get_aml_model(f'{date}_train_df_model1.csv', f\"{date}_test_df_model1.csv\", vars_compact, 710)"
   ]
  },
  {
   "cell_type": "code",
   "execution_count": null,
   "metadata": {},
   "outputs": [],
   "source": [
    "lb_DIC_compact = aml_DIC_compact.leaderboard\n",
    "lb_DIC_compact.head(rows=lb_DIC_compact.nrows)"
   ]
  },
  {
   "cell_type": "code",
   "execution_count": null,
   "metadata": {},
   "outputs": [],
   "source": [
    "# Retrieve the model by specifying the model ID to be saved from the leaderboard\n",
    "model_id = \"GBM_1_AutoML_1_20250421_184837\"\n",
    "best_model = h2o.get_model(model_id)\n",
    "# Retrieve second and third models for comparison necessary\n",
    "#second_model_id = \"\"\n",
    "##second_model = h2o.get_model(second_model_id)\n",
    "#third_model_id = \"\"\n",
    "#third_model = h2o.get_model(third_model_id)"
   ]
  },
  {
   "cell_type": "code",
   "execution_count": null,
   "metadata": {},
   "outputs": [],
   "source": [
    "model_path_full = h2o.save_model(model=best_model, path=os.path.join(output_dir, f'h2omodels/model1_compact/h2omodel_24{date}_best'), force=True)\n",
    "#second_model_path_full = h2o.save_model(model=second_model, path=os.path.join(output_dir, f'h2omodels/model1_compact/h2omodel_24{date}_second'), force=True)\n",
    "#third_model_path_full = h2o.save_model(model=third_model, path=os.path.join(output_dir, f'h2omodels/model1_compact/h2omodel_24{date}_third'), force=True)"
   ]
  },
  {
   "cell_type": "code",
   "execution_count": null,
   "metadata": {},
   "outputs": [],
   "source": [
    "with open(f'{date}/model_path_best_latest_model1_compact.txt', 'w') as f:\n",
    "    f.write(f\"best_model: {model_path_full}\\n\")\n",
    "    #f.write(f\"second_model: {second_model_path_full}\\n\")\n",
    "    #f.write(f\"third_model: {third_model_path_full}\\n\")"
   ]
  }
 ],
 "metadata": {
  "kernelspec": {
   "display_name": "Python 3",
   "language": "python",
   "name": "python3"
  },
  "language_info": {
   "codemirror_mode": {
    "name": "ipython",
    "version": 3
   },
   "file_extension": ".py",
   "mimetype": "text/x-python",
   "name": "python",
   "nbconvert_exporter": "python",
   "pygments_lexer": "ipython3",
   "version": "3.13.3"
  }
 },
 "nbformat": 4,
 "nbformat_minor": 2
}
