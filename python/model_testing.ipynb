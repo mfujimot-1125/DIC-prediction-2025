{
 "cells": [
  {
   "cell_type": "code",
   "execution_count": null,
   "metadata": {},
   "outputs": [],
   "source": [
    "import os\n",
    "import numpy as np\n",
    "import pandas as pd\n",
    "import matplotlib.pyplot as plt\n",
    "%matplotlib inline\n",
    "import seaborn as sns\n",
    "import h2o\n",
    "from sklearn.metrics import roc_curve, auc, precision_recall_curve"
   ]
  },
  {
   "cell_type": "code",
   "execution_count": 85,
   "metadata": {},
   "outputs": [],
   "source": [
    "data_dir = '../data/'\n",
    "output_dir = '../output/'\n",
    "date = \"20250420\"\n",
    "featureset = 'featureset.csv'"
   ]
  },
  {
   "cell_type": "code",
   "execution_count": 86,
   "metadata": {},
   "outputs": [],
   "source": [
    "figure_colors = [\n",
    "    '#4269D0', # orange\n",
    "    '#FF8AB7', # blue\n",
    "    '#6CC5B0', # red\n",
    "    '#374e55' # gray\n",
    "]"
   ]
  },
  {
   "cell_type": "code",
   "execution_count": null,
   "metadata": {},
   "outputs": [],
   "source": [
    "h2o.init()"
   ]
  },
  {
   "cell_type": "code",
   "execution_count": null,
   "metadata": {},
   "outputs": [],
   "source": [
    "# Retrieve the ID and model name from the full path\n",
    "def extract_modelname(input_string: str):\n",
    "    last_slash_index = input_string.rfind('/')\n",
    "    after_last_slash = input_string[last_slash_index + 1:]\n",
    "    first_underscore_index = after_last_slash.find('_')\n",
    "    id = after_last_slash\n",
    "    name = after_last_slash[:first_underscore_index]\n",
    "    return id,name\n",
    "\n",
    "def acquire_models(path: str) -> dict:\n",
    "    with open(path, 'r') as f:\n",
    "        lines = f.readlines()\n",
    "        for line in lines:\n",
    "            if line.startswith(\"best_model:\"):\n",
    "                best_model_path = line.strip().split(\": \")[1]\n",
    "                best_model_id,best_model_name= extract_modelname(best_model_path)\n",
    "            elif line.startswith(\"second_model:\"):\n",
    "                second_model_path = line.strip().split(\": \")[1]\n",
    "                second_model_id,second_model_name= extract_modelname(second_model_path)\n",
    "            elif line.startswith(\"third_model:\"):\n",
    "                third_model_path = line.strip().split(\": \")[1]\n",
    "                third_model_id,third_model_name= extract_modelname(third_model_path)\n",
    "            \n",
    "    models = {\"best\":{\"id\":best_model_id,\"name\":best_model_name,\"path\":best_model_path},\n",
    "              \"second\":{\"id\":second_model_id,\"name\":second_model_name,\"path\":second_model_path},\n",
    "              \"third\":{\"id\":third_model_id,\"name\":third_model_name,\"path\":third_model_path},\n",
    "             }\n",
    "    return models\n",
    "\n",
    "model1 = acquire_models(f\"{date}/model_path_best_latest_model1.txt\")\n",
    "model1_minimum = acquire_models(f\"{date}/model_path_best_latest_model1_minimum.txt\")\n",
    "model1_compact = acquire_models(f\"{date}/model_path_best_latest_model1_compact.txt\")"
   ]
  },
  {
   "cell_type": "code",
   "execution_count": 98,
   "metadata": {},
   "outputs": [],
   "source": [
    "best_model_m1 = h2o.load_model(model1[\"best\"][\"path\"])\n",
    "best_model_m1_minimum = h2o.load_model(model1_minimum[\"best\"][\"path\"])\n",
    "best_model_m1_compact = h2o.load_model(model1_compact[\"best\"][\"path\"])"
   ]
  },
  {
   "cell_type": "code",
   "execution_count": 100,
   "metadata": {},
   "outputs": [],
   "source": [
    "def process_df(path_train: str, path_test: str, vars: list, label: str) -> None:\n",
    "    train = h2o.import_file(os.path.join(data_dir, date, path_train))\n",
    "    train = train[vars]\n",
    "    test = h2o.import_file(os.path.join(data_dir, date, path_test))\n",
    "    test = test[vars]\n",
    "\n",
    "    y = label\n",
    "    train[y] = train[y].asfactor()\n",
    "    test[y] = test[y].asfactor()\n",
    "\n",
    "    return train, test"
   ]
  },
  {
   "cell_type": "code",
   "execution_count": null,
   "metadata": {},
   "outputs": [],
   "source": [
    "#retrieve the features from the featureset for each model\n",
    "df = pd.read_csv(os.path.join(data_dir,featureset))\n",
    "minimum_model_features = df[df['minimum model'] == 1]['Feature'].tolist()\n",
    "compact_model_features = df[df['compact model'] == 1]['Feature'].tolist()\n",
    "full_model_features = df[df['full model'] == 1]['Feature'].tolist()\n",
    "\n",
    "vars_full = full_model_features+['y']\n",
    "vars_minimum = minimum_model_features+['y']\n",
    "vars_compact = compact_model_features+['y']"
   ]
  },
  {
   "cell_type": "code",
   "execution_count": 102,
   "metadata": {},
   "outputs": [
    {
     "name": "stdout",
     "output_type": "stream",
     "text": [
      "Parse progress: |████████████████████████████████████████████████████████████████| (done) 100%\n",
      "Parse progress: |████████████████████████████████████████████████████████████████| (done) 100%\n",
      "Parse progress: |████████████████████████████████████████████████████████████████| (done) 100%\n",
      "Parse progress: |████████████████████████████████████████████████████████████████| (done) 100%\n",
      "Parse progress: |████████████████████████████████████████████████████████████████| (done) 100%\n",
      "Parse progress: |████████████████████████████████████████████████████████████████| (done) 100%\n"
     ]
    }
   ],
   "source": [
    "full_train, full_test = process_df(f'{date}_train_df_model1.csv', f\"{date}_test_df_model1.csv\", vars_full,'y')\n",
    "minimum_train, minimum_test = process_df(f'{date}_train_df_model1.csv', f\"{date}_test_df_model1.csv\", vars_minimum,'y')\n",
    "compact_train, compact_test = process_df(f'{date}_train_df_model1.csv', f\"{date}_test_df_model1.csv\", vars_compact,'y')"
   ]
  },
  {
   "cell_type": "markdown",
   "metadata": {},
   "source": [
    "#### Calculate AUROC, AUPRC, SHAP using models"
   ]
  },
  {
   "cell_type": "code",
   "execution_count": 103,
   "metadata": {},
   "outputs": [],
   "source": [
    "perf_m1= best_model_m1.model_performance(full_test)\n",
    "perf_m1_minimum = best_model_m1_minimum.model_performance(minimum_test)\n",
    "perf_m1_compact = best_model_m1_compact.model_performance(compact_test)"
   ]
  },
  {
   "cell_type": "code",
   "execution_count": null,
   "metadata": {},
   "outputs": [],
   "source": [
    "# Calculate the AUROC\n",
    "auroc_full = perf_m1.auc()\n",
    "auroc_minimum = perf_m1_minimum.auc()\n",
    "auroc_compact = perf_m1_compact.auc()\n",
    "print(f\"model1 full Test AUROC: {auroc_full}\")\n",
    "print(f\"model1 minimum Test AUROC: {auroc_minimum}\")\n",
    "print(f\"model1 compact Test AUROC: {auroc_compact}\")"
   ]
  },
  {
   "cell_type": "code",
   "execution_count": null,
   "metadata": {},
   "outputs": [],
   "source": [
    "best_predict_m1 = best_model_m1.predict(full_test)\n",
    "full_test['predict_all_model'] = best_predict_m1['p1']\n",
    "best_predict_df = full_test.as_data_frame()"
   ]
  },
  {
   "cell_type": "code",
   "execution_count": null,
   "metadata": {},
   "outputs": [],
   "source": [
    "best_predict_m1_minimum = best_model_m1_minimum.predict(minimum_test)\n",
    "minimum_test['predict_all_model'] = best_predict_m1_minimum['p1']\n",
    "best_predict_df_minimum = minimum_test.as_data_frame()"
   ]
  },
  {
   "cell_type": "code",
   "execution_count": null,
   "metadata": {},
   "outputs": [],
   "source": [
    "best_predict_m1_compact = best_model_m1_compact.predict(compact_test)\n",
    "compact_test['predict_all_model'] = best_predict_m1_compact['p1']\n",
    "best_predict_df_compact = compact_test.as_data_frame()"
   ]
  },
  {
   "cell_type": "markdown",
   "metadata": {},
   "source": [
    "#### ROC Plot"
   ]
  },
  {
   "cell_type": "code",
   "execution_count": null,
   "metadata": {},
   "outputs": [],
   "source": [
    "# Compute ROC curve and ROC area\n",
    "fpr1, tpr1, _ = roc_curve(best_predict_df['y'], best_predict_df['predict_all_model'])\n",
    "roc_auc1 = auc(fpr1, tpr1)\n",
    "\n",
    "fpr2, tpr2, _ = roc_curve(best_predict_df_minimum['y'], best_predict_df_minimum['predict_all_model'])\n",
    "roc_auc2 = auc(fpr2, tpr2)\n",
    "\n",
    "fpr3, tpr3, _ = roc_curve(best_predict_df_compact['y'], best_predict_df_compact['predict_all_model'])\n",
    "roc_auc3 = auc(fpr3, tpr3)\n",
    "\n",
    "width_in_inches = 88 / 25.4\n",
    "height_in_inches = 88 / 25.4\n",
    "dpi = 600\n",
    "\n",
    "# Plotting the ROC curve\n",
    "plt.rcParams['font.family'] = 'Arial'\n",
    "\n",
    "plt.figure(figsize=(width_in_inches,height_in_inches),dpi=dpi)\n",
    "sns.set_style(\"white\")\n",
    "plt.plot(fpr2, tpr2, color=figure_colors[0], lw=1, label=f'minimum (AUC = {roc_auc2:.3f})')\n",
    "plt.plot(fpr3, tpr3, color=figure_colors[1], lw=1, label=f'compact (AUC = {roc_auc3:.3f})')\n",
    "plt.plot(fpr1, tpr1, color=figure_colors[2], lw=1, label=f'full (AUC = {roc_auc1:.3f})')\n",
    "\n",
    "plt.plot([0, 1], [0, 1], color=figure_colors[3], lw=1, linestyle='--')\n",
    "plt.xlim([0.0, 1.0])\n",
    "plt.ylim([0.0, 1.05])\n",
    "plt.xlabel('False Positive Rate', fontsize=12)\n",
    "plt.ylabel('True Positive Rate', fontsize=12)\n",
    "plt.title('ROC curve', fontsize=12)\n",
    "plt.legend(loc=\"lower right\", fontsize=9)\n",
    "plt.tight_layout()\n",
    "plt.savefig(os.path.join(output_dir, f'figures/model1/{date}_ROC_curve_3best.tiff'))\n",
    "plt.show()"
   ]
  },
  {
   "cell_type": "code",
   "execution_count": null,
   "metadata": {},
   "outputs": [],
   "source": [
    "# Calculate specificity from the ROC curve for a given sensitivity\n",
    "target_sensitivity = 0.8\n",
    "# Retrieve the first FPR where sensitivity (TPR) exceeds given value and calculate specificity\n",
    "tpr_mask = tpr1 >= target_sensitivity\n",
    "\n",
    "if np.any(tpr_mask):\n",
    "    fpr_at_target = fpr1[tpr_mask][0]\n",
    "    specificity_at_target = 1 - fpr_at_target\n",
    "    print(f\"When Sensitivity = {target_sensitivity:.2f}, Specificity ≈ {specificity_at_target:.3f}\")\n",
    "else:\n",
    "    print(\"Could not find a specificity corresponding to the given sensitivity.\")\n",
    "    "
   ]
  },
  {
   "cell_type": "markdown",
   "metadata": {},
   "source": [
    "#### PRC plot"
   ]
  },
  {
   "cell_type": "code",
   "execution_count": null,
   "metadata": {},
   "outputs": [],
   "source": [
    "# Compute Precision-Recall curve and area for \"full\" model\n",
    "precision1, recall1, _ = precision_recall_curve(best_predict_df['y'], best_predict_df['predict_all_model'])\n",
    "pr_auc1 = auc(recall1, precision1)\n",
    "\n",
    "width_in_inches = 88 / 25.4\n",
    "height_in_inches = 88 / 25.4\n",
    "dpi = 600\n",
    "\n",
    "plt.rcParams['font.family'] = 'Arial'\n",
    "\n",
    "plt.figure(figsize=(width_in_inches, height_in_inches), dpi=dpi)\n",
    "sns.set_style(\"white\")\n",
    "\n",
    "plt.plot(recall1, precision1, color=figure_colors[2], lw=1, label=f'full (AUC = {pr_auc1:.3f})')\n",
    "\n",
    "plt.xlabel('Recall', fontsize=12)\n",
    "plt.ylabel('Precision', fontsize=12)\n",
    "plt.title('Precision-Recall curve', fontsize=12)\n",
    "plt.legend(loc=\"lower left\", fontsize=9)\n",
    "plt.xlim([0.0, 1.0])\n",
    "plt.ylim([0.0, 1.05])\n",
    "plt.tight_layout()\n",
    "\n",
    "plt.savefig(os.path.join(output_dir, f'figures/model1/{date}_PR_curve_full.tiff'))\n",
    "plt.show()"
   ]
  },
  {
   "cell_type": "code",
   "execution_count": null,
   "metadata": {},
   "outputs": [],
   "source": [
    "# Calculate precision from the PRC curve for a given recall\n",
    "target_recall = 0.8\n",
    "\n",
    "# Retrieve the first precision where recall exceeds given value\n",
    "recall_mask = recall1 >= target_recall\n",
    "print(f\"recall_mask: {recall_mask}\")\n",
    "if np.any(recall_mask):\n",
    "    precision_at_target = precision1[recall_mask][-1]\n",
    "    print(f\"When Recall = {target_recall:.2f}, Precision ≈ {precision_at_target:.3f}\")\n",
    "else:\n",
    "    print(\"The precision corresponding to the specified recall could not be found.\")"
   ]
  },
  {
   "cell_type": "markdown",
   "metadata": {},
   "source": [
    "#### SHAP socre plot"
   ]
  },
  {
   "cell_type": "code",
   "execution_count": 107,
   "metadata": {},
   "outputs": [],
   "source": [
    "model_explanation_beta = h2o.get_model(model1[\"best\"][\"id\"])"
   ]
  },
  {
   "cell_type": "code",
   "execution_count": null,
   "metadata": {},
   "outputs": [],
   "source": [
    "# Check the data types of each column\n",
    "print(full_test.types)"
   ]
  },
  {
   "cell_type": "code",
   "execution_count": null,
   "metadata": {},
   "outputs": [],
   "source": [
    "# enum type variables removed for SHAP calculation\n",
    "full_test = full_test.drop(['y'])"
   ]
  },
  {
   "cell_type": "code",
   "execution_count": null,
   "metadata": {},
   "outputs": [],
   "source": [
    "shap_plot = model_explanation_beta.shap_summary_plot(full_test,top_n_features=20,figsize=(12, 12))\n",
    "plt.title(\"SHAP Summary plot indicating importance of variables\", fontsize=22)\n",
    "plt.xlabel(plt.gca().get_xlabel(), fontsize=22)\n",
    "plt.ylabel(plt.gca().get_ylabel(), fontsize=22)\n",
    "plt.xticks(fontsize=15)\n",
    "plt.yticks(fontsize=20)\n",
    "plt.tight_layout()\n",
    "\n",
    "plt.savefig(os.path.join(output_dir, f'figures/model1/{date}_SHAP_full.tiff'))\n",
    "plt.savefig(os.path.join(output_dir, f'figures/model1/{date}_SHAP_full.tiff'), format='tiff')\n",
    "plt.show()"
   ]
  }
 ],
 "metadata": {
  "kernelspec": {
   "display_name": "Python 3",
   "language": "python",
   "name": "python3"
  },
  "language_info": {
   "codemirror_mode": {
    "name": "ipython",
    "version": 3
   },
   "file_extension": ".py",
   "mimetype": "text/x-python",
   "name": "python",
   "nbconvert_exporter": "python",
   "pygments_lexer": "ipython3",
   "version": "3.13.3"
  }
 },
 "nbformat": 4,
 "nbformat_minor": 2
}
